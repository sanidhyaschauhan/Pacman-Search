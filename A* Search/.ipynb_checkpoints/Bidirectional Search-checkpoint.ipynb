{
 "cells": [
  {
   "cell_type": "code",
   "execution_count": 1,
   "id": "ac3e2d77-9ff4-4d23-b5e1-d58819cf8e84",
   "metadata": {},
   "outputs": [
    {
     "ename": "IndentationError",
     "evalue": "expected an indented block after function definition on line 4 (2379919306.py, line 5)",
     "output_type": "error",
     "traceback": [
      "\u001b[0;36m  Cell \u001b[0;32mIn[1], line 5\u001b[0;36m\u001b[0m\n\u001b[0;31m    foodGrid = problem.getFood()\u001b[0m\n\u001b[0m    ^\u001b[0m\n\u001b[0;31mIndentationError\u001b[0m\u001b[0;31m:\u001b[0m expected an indented block after function definition on line 4\n"
     ]
    }
   ],
   "source": [
    "from util import PriorityQueue\n",
    "def bidirectionalSearch(problem):\n",
    "\n",
    "    def manhattanHeuristic(position, problem, goal=None):\n",
    "        foodGrid = problem.getFood() \n",
    "        foodList = foodGrid.asList()\n",
    "    \n",
    "        if len(foodList) == 0:\n",
    "        return 0\n",
    "        \n",
    "        pacmanPos = position\n",
    "        foodDistances = [util.manhattanDistance(pacmanPos, foodPos) for foodPos in foodList]\n",
    "        nearestFoodDistance = min(foodDistances)\n",
    "    \n",
    "        ghostStates = problem.getGhostStates()\n",
    "        ghostPositions = [ghost.getPosition() for ghost in ghostStates]\n",
    "        ghostDistances = [util.manhattanDistance(pacmanPos, ghostPos) for ghostPos in ghostPositions]\n",
    "        ghostPenalty = 0\n",
    "        safeDistance = 2  \n",
    "    \n",
    "        for distance in ghostDistances:\n",
    "            if distance < safeDistance:\n",
    "                ghostPenalty += (safeDistance - distance) * 10  \n",
    "\n",
    "        return nearestFoodDistance - ghostPenalty\n",
    "\n",
    "    def forwardHeuristic(state, problem):\n",
    "        return manhattanHeuristic(state, problem, goal=problem.getGoalState())  \n",
    "\n",
    "    def backwardHeuristic(state, problem):\n",
    "        return manhattanHeuristic(state, problem, goal=problem.getStartState())  \n",
    "\n",
    "    if problem.isGoalState(problem.getStartState()):\n",
    "        return []\n",
    "\n",
    "    frontierStart = PriorityQueue()\n",
    "    frontierGoal = PriorityQueue()\n",
    "\n",
    "    frontierStart.push((problem.getStartState(), []), forwardHeuristic(problem.getStartState(), problem))\n",
    "    frontierGoal.push((problem.getGoalState(), []), backwardHeuristic(problem.getGoalState(), problem))\n",
    "\n",
    "    exploredStart = set()\n",
    "    exploredGoal = set()\n",
    "    pathFromStart = {}\n",
    "    pathFromGoal = {}\n",
    "\n",
    "    while not frontierStart.isEmpty() and not frontierGoal.isEmpty():\n",
    "        stateStart, actionsStart = frontierStart.pop()\n",
    "        if stateStart not in exploredStart:\n",
    "            exploredStart.add(stateStart)\n",
    "            for successor, action, stepCost in problem.getSuccessors(stateStart):\n",
    "                if successor not in exploredStart:\n",
    "                    newPath = actionsStart + [action]\n",
    "                    cost = problem.getCostOfActions(newPath) + forwardHeuristic(successor, problem)\n",
    "                    frontierStart.push((successor, newPath), cost)\n",
    "                    pathFromStart[successor] = newPath\n",
    "                    if successor in pathFromGoal:\n",
    "                        return pathFromStart[successor] + pathFromGoal[successor][::-1]\n",
    "\n",
    "        stateGoal, actionsGoal = frontierGoal.pop()\n",
    "        if stateGoal not in exploredGoal:\n",
    "            exploredGoal.add(stateGoal)\n",
    "            for successor, action, stepCost in problem.getSuccessors(stateGoal):\n",
    "                if successor not in exploredGoal:\n",
    "                    newPath = actionsGoal + [action]\n",
    "                    cost = problem.getCostOfActions(newPath) + backwardHeuristic(successor, problem)\n",
    "                    frontierGoal.push((successor, newPath), cost)\n",
    "                    pathFromGoal[successor] = newPath\n",
    "                    if successor in pathFromStart:\n",
    "                        return pathFromStart[successor] + pathFromGoal[successor][::-1]\n",
    "\n",
    "    return []"
   ]
  },
  {
   "cell_type": "code",
   "execution_count": null,
   "id": "72313a3a-3df5-45ef-b6d2-81c4a05b25bd",
   "metadata": {},
   "outputs": [],
   "source": []
  }
 ],
 "metadata": {
  "kernelspec": {
   "display_name": "Python 3 (ipykernel)",
   "language": "python",
   "name": "python3"
  },
  "language_info": {
   "codemirror_mode": {
    "name": "ipython",
    "version": 3
   },
   "file_extension": ".py",
   "mimetype": "text/x-python",
   "name": "python",
   "nbconvert_exporter": "python",
   "pygments_lexer": "ipython3",
   "version": "3.11.5"
  }
 },
 "nbformat": 4,
 "nbformat_minor": 5
}
